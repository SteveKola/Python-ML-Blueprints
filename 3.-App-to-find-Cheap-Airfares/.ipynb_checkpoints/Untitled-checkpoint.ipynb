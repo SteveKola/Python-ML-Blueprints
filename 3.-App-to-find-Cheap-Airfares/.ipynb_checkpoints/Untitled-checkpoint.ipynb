{
 "cells": [
  {
   "cell_type": "markdown",
   "metadata": {},
   "source": [
    "# Outline\n",
    "\n",
    "- Sourcing airfare pricing on the web (Google Flights)\n",
    "- Retrieving fare data with advanced web scraping techniques\n",
    "- Parsing the DOM to extract prices\n",
    "- Identifying outlier fares with anomaly detection techniques\n",
    "- Sending real-time text alerts with IFTTT."
   ]
  },
  {
   "cell_type": "markdown",
   "metadata": {},
   "source": [
    "## Retrieving Airfare Pricing Data"
   ]
  },
  {
   "cell_type": "markdown",
   "metadata": {},
   "source": [
    "Page is AJAX-based (Asynchronous JavaScript ehn we'll need advanced web scaping tools. Selenium and ChromeDriver."
   ]
  },
  {
   "cell_type": "markdown",
   "metadata": {},
   "source": [
    "Selenium - for automating web browsers.\n",
    "\n",
    "ChromeDriver - a headless browser."
   ]
  },
  {
   "cell_type": "code",
   "execution_count": 1,
   "metadata": {},
   "outputs": [],
   "source": [
    "import numpy as np\n",
    "import pandas as pd\n",
    "import matplotlib.pyplot as plt\n",
    "%matplotlib inline"
   ]
  },
  {
   "cell_type": "code",
   "execution_count": 5,
   "metadata": {},
   "outputs": [],
   "source": [
    "from bs4 import BeautifulSoup\n",
    "from selenium import webdriver \n",
    "\n",
    "chromedriver_path = \"/home/lalah/Downloads/chromedriver\"\n",
    "\n",
    "browser = webdriver.Chrome(chromedriver_path)"
   ]
  },
  {
   "cell_type": "code",
   "execution_count": 6,
   "metadata": {},
   "outputs": [],
   "source": [
    "sats = 'https://www.google.com/travel/explore?tfs=CBwQAxopag0IAhIJL20vMDJfMjg2EgoyMDIxLTAyLTEzcgwIBBIIL20vMDJqOXoaKWoMCAQSCC9tLzAyajl6EgoyMDIxLTAyLTIwcg0IAhIJL20vMDJfMjg2cAGCAQsI____________AUABSAGYAQGyAQIYAQ&tfu=GgA&hl=en&gl=NG'\n",
    "browser.get(sats)"
   ]
  },
  {
   "cell_type": "code",
   "execution_count": 7,
   "metadata": {},
   "outputs": [
    {
     "data": {
      "text/plain": [
       "'Explore'"
      ]
     },
     "execution_count": 7,
     "metadata": {},
     "output_type": "execute_result"
    }
   ],
   "source": [
    "browser.title"
   ]
  },
  {
   "cell_type": "code",
   "execution_count": 8,
   "metadata": {},
   "outputs": [
    {
     "data": {
      "text/plain": [
       "True"
      ]
     },
     "execution_count": 8,
     "metadata": {},
     "output_type": "execute_result"
    }
   ],
   "source": [
    "browser.save_screenshot('/home/lalah/Downloads/test_flights.png')"
   ]
  },
  {
   "cell_type": "markdown",
   "metadata": {},
   "source": [
    "## Parsing the DOM to extract pricing data"
   ]
  },
  {
   "cell_type": "markdown",
   "metadata": {},
   "source": [
    "The DOM is the collection of elements that made comprise a webpage.\n",
    "\n",
    "It includes HTML tags such as `body` and `div`, as well as the classes and IDs embedded in these tags."
   ]
  },
  {
   "cell_type": "markdown",
   "metadata": {},
   "source": [
    "### Parsing"
   ]
  },
  {
   "cell_type": "code",
   "execution_count": 9,
   "metadata": {},
   "outputs": [],
   "source": [
    "soup = BeautifulSoup(browser.page_source, \"html5lib\")"
   ]
  },
  {
   "cell_type": "code",
   "execution_count": 10,
   "metadata": {},
   "outputs": [
    {
     "data": {
      "text/plain": [
       "<div class=\"tsAU4e\"><div class=\"wIuJz\"><h3 class=\"W6bZuc YMlIz\">London</h3><div class=\"ZjDced CQYfx\"><img alt=\"Air France, Delta, and Aer Lingus\" class=\"C5fbBf\" data-iml=\"18602.525000000016\" height=\"16\" src=\"//www.gstatic.com/flights/airline_logos/70px/multi.png\" width=\"16\"/><span class=\"nx0jzf\">1 stop</span><span aria-label=\" \" class=\"qeoz6e U325Rc\"></span><span class=\"Xq1DAb\">9 hr 45 min</span></div></div><div class=\"Q70fcd sSHqwe\"><div class=\"MJg7fb\"><span class=\"QB2Jof xLPuCe\"><span aria-label=\"233320 Nigerian nairas\" data-gs=\"CidHZ003dUJHLS0tLS0tLS0td3Nienc3QUFBQUFHQVVhLThETkZUQUESATAaCwjong4QABoDTkdOKgoyMDIxLTAyLTEzMgoyMDIxLTAyLTIwOCRKBAgBEBpw2N8D\" role=\"text\">NGN 233,320</span></span></div></div></div>"
      ]
     },
     "execution_count": 10,
     "metadata": {},
     "output_type": "execute_result"
    }
   ],
   "source": [
    "cards = soup.select('div[class*=tsAU4e]')\n",
    "cards[0]"
   ]
  },
  {
   "cell_type": "code",
   "execution_count": 27,
   "metadata": {},
   "outputs": [
    {
     "name": "stdout",
     "output_type": "stream",
     "text": [
      "London\n",
      "NGN 233,320\n",
      "\n",
      "\n",
      "Paris\n",
      "NGN 182,780\n",
      "\n",
      "\n",
      "Rome\n",
      "NGN 203,889\n",
      "\n",
      "\n",
      "Amsterdam\n",
      "NGN 191,083\n",
      "\n",
      "\n",
      "Barcelona\n",
      "NGN 219,260\n",
      "\n",
      "\n",
      "Madrid\n",
      "NGN 167,200\n",
      "\n",
      "\n",
      "Berlin\n",
      "NGN 187,720\n",
      "\n",
      "\n",
      "Lisbon\n",
      "NGN 189,240\n",
      "\n",
      "\n",
      "Athens\n",
      "NGN 279,300\n",
      "\n",
      "\n",
      "Venice\n",
      "NGN 203,813\n",
      "\n",
      "\n",
      "Dublin\n",
      "NGN 208,335\n",
      "\n",
      "\n",
      "Vienna\n",
      "NGN 201,419\n",
      "\n",
      "\n",
      "Prague\n",
      "NGN 205,561\n",
      "\n",
      "\n",
      "Budapest\n",
      "NGN 202,977\n",
      "\n",
      "\n",
      "Santorini\n",
      "NGN 2,334,169\n",
      "\n",
      "\n",
      "Milan\n",
      "NGN 201,115\n",
      "\n",
      "\n",
      "Florence\n",
      "\n",
      "\n",
      "Copenhagen\n",
      "NGN 198,949\n",
      "\n",
      "\n",
      "Edinburgh\n",
      "NGN 246,943\n",
      "\n",
      "\n",
      "Munich\n",
      "NGN 180,120\n",
      "\n",
      "\n",
      "Moscow\n",
      "NGN 199,880\n",
      "\n",
      "\n",
      "Stockholm\n",
      "NGN 207,841\n",
      "\n",
      "\n",
      "Dubrovnik\n",
      "NGN 378,309\n",
      "\n",
      "\n",
      "Seville\n",
      "NGN 200,640\n",
      "\n",
      "\n",
      "Zürich\n",
      "NGN 162,260\n",
      "\n",
      "\n",
      "Frankfurt\n",
      "NGN 194,560\n",
      "\n",
      "\n",
      "Mykonos\n",
      "NGN 2,334,967\n",
      "\n",
      "\n",
      "Naples\n",
      "NGN 200,393\n",
      "\n",
      "\n",
      "Porto\n",
      "NGN 207,480\n",
      "\n",
      "\n",
      "Nice\n",
      "NGN 205,295\n",
      "\n",
      "\n",
      "Bath\n",
      "To London\n",
      "\n",
      "\n",
      "Kraków\n",
      "NGN 269,021\n",
      "\n",
      "\n",
      "Helsinki\n",
      "NGN 310,274\n",
      "\n",
      "\n",
      "Saint Petersburg\n",
      "NGN 211,641\n",
      "\n",
      "\n",
      "Oslo\n",
      "NGN 193,591\n",
      "\n",
      "\n",
      "Bruges\n",
      "To Brussels\n",
      "\n",
      "\n",
      "Salzburg\n",
      "NGN 457,140\n",
      "\n",
      "\n",
      "Split\n",
      "NGN 449,065\n",
      "\n",
      "\n",
      "Zagreb\n",
      "NGN 353,400\n",
      "\n",
      "\n",
      "Granada\n",
      "NGN 325,223\n",
      "\n",
      "\n"
     ]
    }
   ],
   "source": [
    "for card in cards:\n",
    "    print(card.select('h3')[0].text)\n",
    "    if card.select('span'):\n",
    "        print(card.select('span')[-1].text)\n",
    "    print('\\n')"
   ]
  },
  {
   "cell_type": "markdown",
   "metadata": {},
   "source": [
    "Since it looks successful, I'll construct a full scrape and parse for a large number of fares.\n",
    "\n",
    "I'll retrieve the lowest cost, non-stop fares from NYC to Europe for a 26-week period."
   ]
  },
  {
   "cell_type": "code",
   "execution_count": 28,
   "metadata": {},
   "outputs": [
    {
     "data": {
      "text/plain": [
       "<div class=\"tsAU4e\"><div class=\"wIuJz\"><h3 class=\"W6bZuc YMlIz\">Bath</h3><div class=\"ZjDced CQYfx\"><img alt=\"Air France, Delta, and Aer Lingus\" class=\"C5fbBf\" data-iml=\"18602.055000000066\" height=\"16\" src=\"//www.gstatic.com/flights/airline_logos/70px/multi.png\" width=\"16\"/><span class=\"nx0jzf\">1 stop</span><span aria-label=\" \" class=\"qeoz6e U325Rc\"></span><span class=\"Xq1DAb\">9 hr 45 min</span></div></div><div class=\"Q70fcd sSHqwe\"><div class=\"MJg7fb\"><span class=\"QB2Jof xLPuCe\"><span aria-label=\"233320 Nigerian nairas\" data-gs=\"CidHZ003dUJHLS0tLS0tLS0td3Nienc3QUFBQUFHQVVhLThETkZUQUESAjMwGgsI6J4OEAAaA05HTioKMjAyMS0wMi0xMzIKMjAyMS0wMi0yMDgkSgQIARAacNjfAw==\" role=\"text\">NGN 233,320</span></span></div><span class=\"IxlmQc sSHqwe\">To London</span></div></div>"
      ]
     },
     "execution_count": 28,
     "metadata": {},
     "output_type": "execute_result"
    }
   ],
   "source": [
    "cards[30]"
   ]
  },
  {
   "cell_type": "code",
   "execution_count": 12,
   "metadata": {},
   "outputs": [
    {
     "data": {
      "text/plain": [
       "[]"
      ]
     },
     "execution_count": 12,
     "metadata": {},
     "output_type": "execute_result"
    }
   ],
   "source": [
    "soup.select('div[class*=info-container]')"
   ]
  },
  {
   "cell_type": "code",
   "execution_count": null,
   "metadata": {},
   "outputs": [],
   "source": []
  }
 ],
 "metadata": {
  "kernelspec": {
   "display_name": "Python 3",
   "language": "python",
   "name": "python3"
  },
  "language_info": {
   "codemirror_mode": {
    "name": "ipython",
    "version": 3
   },
   "file_extension": ".py",
   "mimetype": "text/x-python",
   "name": "python",
   "nbconvert_exporter": "python",
   "pygments_lexer": "ipython3",
   "version": "3.8.3"
  }
 },
 "nbformat": 4,
 "nbformat_minor": 4
}
